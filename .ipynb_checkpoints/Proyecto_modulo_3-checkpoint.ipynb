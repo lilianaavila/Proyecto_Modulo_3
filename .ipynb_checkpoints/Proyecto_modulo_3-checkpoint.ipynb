{
 "cells": [
  {
   "cell_type": "markdown",
   "metadata": {},
   "source": [
    "<img style=\"float: right; margin: 0px 0px 15px 15px;\" src=\"https://blogs.iteso.mx/uniteso/files/2015/05/Logo_Horizontal-1024x472.jpg\" width=\"300px\" height=\"100px\" />\n",
    "### PROYECTO MODULO ###\n",
    "### FRACTALES Y MONTECARLO##\n"
   ]
  },
  {
   "cell_type": "markdown",
   "metadata": {},
   "source": [
    ">### INTEGRANTES ###"
   ]
  },
  {
   "cell_type": "markdown",
   "metadata": {},
   "source": [
    "* Ana Fernanda Virgen Sánchez.\n",
    "* Liliana Avila Maravilla.\n",
    "* Gustavo Herrera Santana."
   ]
  },
  {
   "cell_type": "markdown",
   "metadata": {},
   "source": [
    " ### INTRODUCCIÓN."
   ]
  },
  {
   "cell_type": "markdown",
   "metadata": {},
   "source": [
    "Un fractal es un objeto cuya estructura se repite a diferentes escalas. Es decir, por mucho que nos acerquemos o alejemos del objeto, observaremos siempre la misma estructura. De hecho, somos incapaces de afirmar a qué distancia nos encontramos del objecto, ya que siempre lo veremos de la misma forma.\n",
    "\n",
    "Python es un lenguaje que soporta el paradigma de Programación Orientada a Objetos. Con este paradigma, los objetos son entidades con un determinado estado o comportamiento, y pueden ser manipulados en tiempo de ejecución invocando a los métodos del objeto.\n",
    "Turtle o gráficas tortuga es un cursor al que se le pueden dar órdenes de movimiento (avance, retroceso o giro) y que puede ir dejando un rastro sobre la pantalla, Dicho de otra forma, supongamos que tenemos una tortuga a la cual le damos diferentes órdenes (avance, retroceso, giro, etc.). El objeto sería la tortuga, y los métodos de la tortuga son las ordenes \n",
    ". Moviendo adecuadamente la tortuga se pueden conseguir dibujar todo tipo de figuras. Python incluye un módulo llamado \"turtle\" que permite crear gráficos de tortuga. Para utilizar el módulo turtle sólo hace falta importarlo.\n",
    "El módulo turtle dibuja en una ventana distinta a la ventana de IDLE. Esta ventana de dibujo se crea al ejecutar un programa y se mantiene al acabar la ejecución del programa, pero se destruye al volver a ejecutar el programa). El tamaño de la ventana de dibujo se puede modificar a lo largo de un programa, sin que se pierda el dibujo realizado anteriormente.\n",
    "La ventana de dibujo contiene el área de dibujo, una superficie plana en la que se puede dibujar. El área de dibujo tiene un tamaño inicial de 400 x 300 píxeles (en Windows), pero la función screensize (ancho, alto) permite definir el tamaño del área de dibujo, en píxeles. \n",
    "Dibujar gráficos de tortuga es similar a dibujar con un lápiz sobre papel. Las instrucciones de gráficos de tortuga permiten dibujar líneas y puntos, mover el lápiz de un sitio a otro, cambiar el color y grosor del trazo, colorear el interior de las figuras, etc.\n",
    "Situar el cursor en un lugar del área de dibujo es equivalente a colocar la punta del lápiz en un punto de un papel y desplazar el cursor es equivalente a dibujar un segmento sobre el papel o desplazar el lápiz a otro punto del papel.\n",
    "Las posiciones en el área de dibujo se localizan mediante coordenadas XY en el que cada píxel es una unidad y con origen en el centro de la ventana.\n",
    "El área de dibujo puede ser mayor o menor que la ventana de dibujo.\n",
    "La función goto(x, y) permite desplazar el cursor a una posición determinada del área de dibujo.\n",
    "Las funciones pendown() y penup() son equivalentes a bajar y levantar el lápiz del papel. Una vez levantado el lápiz del papel, al desplazar el lápiz ya no se dibujan segmentos. Al volver a bajar el lápiz, al desplazar el lápiz vuelven a dibujarse los fragmentos.\n",
    "Todas estas características permiten realizar dibujos más elaborados, inclusive turtle te permite trabajar con más de una tortuga.\n",
    "\n"
   ]
  },
  {
   "cell_type": "markdown",
   "metadata": {},
   "source": [
    "### OBJETIVO GENERAL"
   ]
  },
  {
   "cell_type": "markdown",
   "metadata": {},
   "source": [
    "* Mostar y dar a conocer el uso de fracales con el apoyo de Turtle de Python."
   ]
  },
  {
   "cell_type": "markdown",
   "metadata": {},
   "source": [
    "### OBJETIVOS."
   ]
  },
  {
   "cell_type": "markdown",
   "metadata": {},
   "source": [
    "* Demostrar el uso de Fractales\n",
    "* Crear fractales a partir de una secuencia aleatoria\n",
    "* Aplicar los nuevos conocimientos del programa Turtle \n",
    "* Repartir el espiritu Navideño "
   ]
  },
  {
   "cell_type": "markdown",
   "metadata": {},
   "source": []
  },
  {
   "cell_type": "code",
   "execution_count": 46,
   "metadata": {},
   "outputs": [],
   "source": [
    "# Python code to draw snowflakes fractal. \n",
    "import turtle \n",
    "import random "
   ]
  },
  {
   "cell_type": "code",
   "execution_count": 47,
   "metadata": {
    "collapsed": true
   },
   "outputs": [],
   "source": [
    "# setup the window with a background color \n",
    "wn = turtle.Screen() \n",
    "wn.bgcolor(\"red\") "
   ]
  },
  {
   "cell_type": "code",
   "execution_count": 48,
   "metadata": {},
   "outputs": [],
   "source": [
    "# assign a name to your turtle \n",
    "beto = turtle.Turtle() \n",
    "beto.speed(50) "
   ]
  },
  {
   "cell_type": "code",
   "execution_count": 49,
   "metadata": {
    "collapsed": true
   },
   "outputs": [],
   "source": [
    "# create a list of colours \n",
    "sfcolor = [\"white\", \"black\", \"green\"] "
   ]
  },
  {
   "cell_type": "code",
   "execution_count": 50,
   "metadata": {
    "collapsed": true
   },
   "outputs": [],
   "source": [
    "# create a function to create different size snowflakes \n",
    "def snowflake(size): \n",
    "  \n",
    "    # move the pen into starting position \n",
    "    beto.penup() \n",
    "    beto.forward(10*size) \n",
    "    beto.left(45) \n",
    "    beto.pendown() \n",
    "    beto.color(random.choice(sfcolor)) \n",
    "  \n",
    "    # draw branch 8 times to make a snowflake \n",
    "    for i in range(8): \n",
    "        branch(size)    \n",
    "        beto.left(45) \n",
    "      "
   ]
  },
  {
   "cell_type": "code",
   "execution_count": 51,
   "metadata": {
    "collapsed": true
   },
   "outputs": [],
   "source": [
    "# create one branch of the snowflake \n",
    "def branch(size): \n",
    "    for i in range(3): \n",
    "        for i in range(3): \n",
    "            beto.forward(10.0*size/3) \n",
    "            beto.backward(10.0*size/3) \n",
    "            beto.right(45) \n",
    "        beto.left(90) \n",
    "        beto.backward(10.0*size/3) \n",
    "        beto.left(45) \n",
    "    beto.right(90)  \n",
    "    beto.forward(10.0*size)"
   ]
  },
  {
   "cell_type": "code",
   "execution_count": 52,
   "metadata": {},
   "outputs": [],
   "source": [
    "# loop to create 20 different sized snowflakes  \n",
    "# with different starting co-ordinates \n",
    "for i in range(20): \n",
    "    x = random.randint(-200, 200) \n",
    "    y = random.randint(-200, 200) \n",
    "    sf_size = random.randint(1, 4) \n",
    "    beto.penup() \n",
    "    beto.goto(x, y) \n",
    "    beto.pendown() \n",
    "    snowflake(sf_size) "
   ]
  },
  {
   "cell_type": "code",
   "execution_count": null,
   "metadata": {},
   "outputs": [],
   "source": [
    "from turtle import *\n",
    "write(\"Feliz Navidad\", False,\n",
    "      \"center\",(\"arial\", 30, \"bold italic\"))\n"
   ]
  },
  {
   "cell_type": "code",
   "execution_count": null,
   "metadata": {},
   "outputs": [],
   "source": [
    "# leave the window open until you click to close   \n",
    "wn.exitonclick()   "
   ]
  },
  {
   "cell_type": "markdown",
   "metadata": {},
   "source": [
    "### CONCLUSIONES. \n",
    "* Los fractales a pesar de ser un tema muy complejo en el ámbito de las matemáticas, a la hora de aplicarlo se vuelve sencillo y   muy agradable para el ojo humano.\n",
    "\n",
    "* El uso de Montecarlo es una herramienta muy útil para la creación de datos totalmente aleatorios o basados en una referencia     lo cual nos resulta muy útil para predicciones futuros acerca de un tema, o en nuestro caso, para nuestro proyecto.\n",
    "\n",
    "* Nos dimos cuenta que con lo aprendido en clase somos capaces, con un poco de investigación extra, ha combinar y utilizar los     temas vistos en clase para aplicarlo en diversos temas.\n",
    "\n"
   ]
  },
  {
   "cell_type": "markdown",
   "metadata": {},
   "source": [
    "### BIBLIOGRAFIA."
   ]
  },
  {
   "cell_type": "markdown",
   "metadata": {},
   "source": [
    "* https://www.pythoniza.me/programando-una-tortuga-en-python/\n",
    "* https://docs.python.org/2/library/turtle.html#turtle.forward\n",
    "* http://www.mclibre.org/consultar/python/lecciones/python-turtle-1.html\n",
    "* http://www.mclibre.org/consultar/python/lecciones/python-turtle-2.html\n",
    "* https://www.xatakaciencia.com/matematicas/que-son-los-fractales-y-como-se-construyen"
   ]
  },
  {
   "cell_type": "code",
   "execution_count": null,
   "metadata": {
    "collapsed": true
   },
   "outputs": [],
   "source": []
  }
 ],
 "metadata": {
  "anaconda-cloud": {},
  "kernelspec": {
   "display_name": "Python 3",
   "language": "python",
   "name": "python3"
  },
  "language_info": {
   "codemirror_mode": {
    "name": "ipython",
    "version": 3
   },
   "file_extension": ".py",
   "mimetype": "text/x-python",
   "name": "python",
   "nbconvert_exporter": "python",
   "pygments_lexer": "ipython3",
   "version": "3.6.5"
  }
 },
 "nbformat": 4,
 "nbformat_minor": 1
}
